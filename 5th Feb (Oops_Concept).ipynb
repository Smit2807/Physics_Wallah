{
 "cells": [
  {
   "cell_type": "markdown",
   "id": "97351a1a",
   "metadata": {},
   "source": [
    "Q1. Explain Class and Object with respect to Object-Oriented Programming. Give a suitable example."
   ]
  },
  {
   "cell_type": "code",
   "execution_count": null,
   "id": "3f4eb013",
   "metadata": {},
   "outputs": [],
   "source": [
    "In Object-Oriented Programming (OOP), classes and objects are fundamental concepts that define how data and behavior are encapsulated and structured.\n",
    "\n",
    "1. Class:\n",
    "A class is a blueprint or template for creating objects. \n",
    "It defines the properties (attributes) and behaviors (methods) that the objects created from the class will have.\n",
    "A class doesn't hold any data by itself but serves as a model for the objects that will be instantiated from it.\n",
    "\n",
    "2. Object:\n",
    "An object is an instance of a class. \n",
    "It holds actual data, and its methods define its behavior.\n",
    "When a class is defined, no memory is allocated until objects are created from it.\n"
   ]
  },
  {
   "cell_type": "code",
   "execution_count": null,
   "id": "a3b3af52",
   "metadata": {},
   "outputs": [],
   "source": [
    "\n",
    "class Car:\n",
    "    def __init__(self, make, model, year):\n",
    "        self.make = make  \n",
    "        self.model = model  \n",
    "        self.year = year \n",
    "\n",
    "  \n",
    "    def display_info(self):\n",
    "        print(f\"Car: {self.year} {self.make} {self.model}\")\n",
    "\n",
    "\n",
    "car1 = Car(\"Toyota\", \"Camry\", 2022)\n",
    "car2 = Car(\"Honda\", \"Accord\", 2023)\n",
    "\n",
    "\n",
    "car1.display_info()  # Output: Car: 2022 Toyota Camry\n",
    "car2.display_info()  # Output: Car: 2023 Honda Accord"
   ]
  },
  {
   "cell_type": "markdown",
   "id": "2bf75f61",
   "metadata": {},
   "source": [
    "Q2. Name the four pillars of OOPs ? "
   ]
  },
  {
   "cell_type": "markdown",
   "id": "9b53e7fc",
   "metadata": {},
   "source": [
    "The four pillars of Object-Oriented Programming (OOP) are:\n",
    "\n",
    "1. Encapsulation:\n",
    "\n",
    "    Encapsulation is the mechanism of bundling data (attributes) and methods (functions) that operate on the data into a single unit, the class. It also involves restricting direct access to some of the object's components, typically through access modifiers (like private, public, protected), to protect the integrity of the data.\n",
    "\n",
    "Example: In a class, attributes can be made private and accessed only through public methods (getters and setters).\n",
    "\n",
    "2. Abstraction:\n",
    "\n",
    "    Abstraction refers to the concept of hiding the complex implementation details and showing only the essential features of the object. This allows focusing on the \"what\" an object does rather than \"how\" it does it.\n",
    "\n",
    "    Example: When you drive a car, you only need to know how to operate the steering wheel, brakes, and gas pedals without understanding the internal mechanisms like engine or fuel combustion.\n",
    "\n",
    "3. Inheritance:\n",
    "    Inheritance allows a new class to inherit properties and behaviors (attributes and methods) from an existing class. The existing class is called the parent class (or base class), and the new class is called the child class (or derived class). It promotes code reusability.\n",
    "\n",
    "    Example: A class Car can be a parent class, and a class ElectricCar can inherit from Car, gaining all its attributes like make, model, and year, while also adding new ones specific to electric cars (like battery capacity).\n",
    "\n",
    "4. Polymorphism:\n",
    "    Polymorphism allows methods to do different things based on the object that is invoking them. It means \"many forms\" and enables objects to be treated as instances of their parent class while executing the appropriate behavior for their actual derived class.\n",
    "\n",
    "There are two types of polymorphism:\n",
    "\n",
    "    Compile-time (Method Overloading): Multiple methods with the same name but different parameters.\n",
    "\n",
    "    Run-time (Method Overriding): A child class can provide a specific implementation of a method that is already defined in its parent class.\n",
    "\n",
    "   Example: A method drive() may behave differently in a Car class and a Bicycle class, even though both share the same method name."
   ]
  },
  {
   "cell_type": "markdown",
   "id": "435309dc",
   "metadata": {},
   "source": [
    "Q3. Explain why the __init__() function is used. Give a suitable example?"
   ]
  },
  {
   "cell_type": "code",
   "execution_count": null,
   "id": "b489b6d7",
   "metadata": {},
   "outputs": [],
   "source": [
    "The __init__() function in Python is a special method, also known as a constructor, which is automatically called when a new instance of a class is created. Its primary purpose is to initialize the object's attributes with the values passed during the creation of the object. It sets up the initial state of an object by assigning values to the instance variables.\n",
    "\n",
    "Key Points:\n",
    "    \n",
    "The __init__() method is called when an object is instantiated.\n",
    "It allows you to define the initial values of the object’s attributes.\n",
    "It doesn't return anything,its sole purpose is to initialize the object."
   ]
  },
  {
   "cell_type": "code",
   "execution_count": null,
   "id": "6654f769",
   "metadata": {},
   "outputs": [],
   "source": [
    "class Person:\n",
    "    def __init__(self, name, age):\n",
    "       \n",
    "        self.name = name\n",
    "        self.age = age\n",
    "\n",
    " \n",
    "    def display_info(self):\n",
    "        print(f\"Name: {self.name}, Age: {self.age}\")\n",
    "\n",
    "\n",
    "person1 = Person(\"Alice\", 30)\n",
    "\n",
    "\n",
    "person1.display_info() "
   ]
  },
  {
   "cell_type": "markdown",
   "id": "dd80458b",
   "metadata": {},
   "source": [
    "Q4. Why self is used in OOPs?"
   ]
  },
  {
   "cell_type": "markdown",
   "id": "510fc765",
   "metadata": {},
   "source": [
    "    Self represents the instance of the class. By using the “self”  we can access the attributes and methods of the class in Python. It is customary to use “self” as the first parameter in instance methods of a class. Whenever you call a method of an object created from a class, the object is automatically passed as the first argument using the “self” parameter. This enables you to modify the object’s properties and execute tasks unique to that particular instance."
   ]
  },
  {
   "cell_type": "code",
   "execution_count": 1,
   "id": "c398170d",
   "metadata": {},
   "outputs": [
    {
     "name": "stdout",
     "output_type": "stream",
     "text": [
      "Maths\n",
      "Science\n"
     ]
    }
   ],
   "source": [
    "class Subject:\n",
    "\n",
    "    def __init__(self, attr1, attr2):\n",
    "        self.attr1 = attr1\n",
    "        self.attr2 = attr2\n",
    "\n",
    "\n",
    "obj = Subject('Maths', 'Science')\n",
    "print(obj.attr1)  \n",
    "print(obj.attr2) "
   ]
  },
  {
   "cell_type": "markdown",
   "id": "d84989d2",
   "metadata": {},
   "source": [
    "Q5. What is inheritance? Give an example for each type of inheritance."
   ]
  },
  {
   "cell_type": "markdown",
   "id": "045910e4",
   "metadata": {},
   "source": [
    "    Inheritance is a fundamental concept in object-oriented programming (OOP) that allows one class to inherit attributes and methods from another class. The main benefit of inheritance is code reuse—a new class (child/subclass) can reuse the functionality of an existing class (parent/superclass), and it can also extend or modify this functionality.\n",
    "    There are 5 types of Inheritance:- "
   ]
  },
  {
   "cell_type": "code",
   "execution_count": 2,
   "id": "1acb82d6",
   "metadata": {},
   "outputs": [
    {
     "name": "stdout",
     "output_type": "stream",
     "text": [
      "Some sound\n",
      "Bark!\n"
     ]
    }
   ],
   "source": [
    "# 1) Single Inheritance: In single inheritance, a child class inherits from one parent class.\n",
    "    \n",
    "class Animal:\n",
    "    def sound(self):\n",
    "        return \"Some sound\"\n",
    "\n",
    "class Dog(Animal):  # Dog inherits from Animal\n",
    "    def bark(self):\n",
    "        return \"Bark!\"\n",
    "\n",
    "dog = Dog()\n",
    "print(dog.sound())  # Inherited method from Animal\n",
    "print(dog.bark()) "
   ]
  },
  {
   "cell_type": "code",
   "execution_count": 3,
   "id": "a4be62cd",
   "metadata": {},
   "outputs": [
    {
     "name": "stdout",
     "output_type": "stream",
     "text": [
      "Works as an engineer\n",
      "Loves painting\n"
     ]
    }
   ],
   "source": [
    "# 2) Multiple Inheritance: In multiple inheritance, a child class inherits from more than one parent class.\n",
    "\n",
    "\n",
    "class Father:\n",
    "    def work(self):\n",
    "        return \"Works as an engineer\"\n",
    "\n",
    "class Mother:\n",
    "    def hobby(self):\n",
    "        return \"Loves painting\"\n",
    "\n",
    "class Child(Father, Mother):  # Child inherits from both Father and Mother\n",
    "    pass\n",
    "\n",
    "child = Child()\n",
    "print(child.work())   \n",
    "print(child.hobby()) "
   ]
  },
  {
   "cell_type": "code",
   "execution_count": 4,
   "id": "92faed1e",
   "metadata": {},
   "outputs": [
    {
     "name": "stdout",
     "output_type": "stream",
     "text": [
      "Grandparent's legacy\n",
      "Parent's care\n"
     ]
    }
   ],
   "source": [
    "# 3) Multilevel Inheritance: In multilevel inheritance, a child class inherits from a parent class, which itself inherits from another parent class.\n",
    "\n",
    "class Grandparent:\n",
    "    def legacy(self):\n",
    "        return \"Grandparent's legacy\"\n",
    "\n",
    "class Parent(Grandparent):  # Parent inherits from Grandparent\n",
    "    def parent_care(self):\n",
    "        return \"Parent's care\"\n",
    "\n",
    "class Child(Parent):  # Child inherits from Parent (and indirectly Grandparent)\n",
    "    pass\n",
    "\n",
    "child = Child()\n",
    "print(child.legacy())      # Outputs: Grandparent's legacy\n",
    "print(child.parent_care()) # Outputs: Parent's care"
   ]
  },
  {
   "cell_type": "code",
   "execution_count": 5,
   "id": "ea397319",
   "metadata": {},
   "outputs": [
    {
     "name": "stdout",
     "output_type": "stream",
     "text": [
      "Vehicle is driving\n",
      "Vehicle is driving\n"
     ]
    }
   ],
   "source": [
    "# 4) Hierarchical Inheritance: In hierarchical inheritance, multiple child classes inherit from the same parent class.\n",
    "\n",
    "\n",
    "class Vehicle:\n",
    "    def drive(self):\n",
    "        return \"Vehicle is driving\"\n",
    "\n",
    "class Car(Vehicle):  # Car inherits from Vehicle\n",
    "    pass\n",
    "\n",
    "class Bike(Vehicle):  # Bike inherits from Vehicle\n",
    "    pass\n",
    "\n",
    "car = Car()\n",
    "bike = Bike()\n",
    "print(car.drive())  # Outputs: Vehicle is driving\n",
    "print(bike.drive()) # Outputs: Vehicle is driving"
   ]
  },
  {
   "cell_type": "code",
   "execution_count": 6,
   "id": "eb2bf45d",
   "metadata": {},
   "outputs": [
    {
     "name": "stdout",
     "output_type": "stream",
     "text": [
      "Engine starts\n",
      "Vehicle is driving\n",
      "SportsCar speeds up\n"
     ]
    }
   ],
   "source": [
    "# 5)  Hybrid Inheritance: Hybrid inheritance is a combination of more than one type of inheritance.\n",
    "\n",
    "class Engine:\n",
    "    def start_engine(self):\n",
    "        return \"Engine starts\"\n",
    "\n",
    "class Vehicle:\n",
    "    def drive(self):\n",
    "        return \"Vehicle is driving\"\n",
    "\n",
    "class Car(Vehicle, Engine):  # Car inherits from both Vehicle and Engine\n",
    "    pass\n",
    "\n",
    "class SportsCar(Car):  # SportsCar inherits from Car (which already inherits from Vehicle and Engine)\n",
    "    def speed(self):\n",
    "        return \"SportsCar speeds up\"\n",
    "\n",
    "sportscar = SportsCar()\n",
    "print(sportscar.start_engine())  # Outputs: Engine starts\n",
    "print(sportscar.drive())         # Outputs: Vehicle is driving\n",
    "print(sportscar.speed())         # Outputs: SportsCar speeds up"
   ]
  },
  {
   "cell_type": "code",
   "execution_count": null,
   "id": "6b9bf2ab",
   "metadata": {},
   "outputs": [],
   "source": []
  }
 ],
 "metadata": {
  "kernelspec": {
   "display_name": "Python 3",
   "language": "python",
   "name": "python3"
  },
  "language_info": {
   "codemirror_mode": {
    "name": "ipython",
    "version": 3
   },
   "file_extension": ".py",
   "mimetype": "text/x-python",
   "name": "python",
   "nbconvert_exporter": "python",
   "pygments_lexer": "ipython3",
   "version": "3.8.8"
  }
 },
 "nbformat": 4,
 "nbformat_minor": 5
}
