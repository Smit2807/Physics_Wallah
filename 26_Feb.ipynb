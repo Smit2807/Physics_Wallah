{
 "cells": [
  {
   "cell_type": "code",
   "execution_count": 12,
   "id": "787e8935",
   "metadata": {},
   "outputs": [],
   "source": [
    "import numpy as np\n",
    "list_ = ['1', '2' , '3' , '4' , '5' ]\n",
    "array_list = np.array(object = list_)"
   ]
  },
  {
   "cell_type": "markdown",
   "id": "8708fcdf",
   "metadata": {},
   "source": [
    "Q1. Is there any difference in the data type of variables list_ and array_list? If there is then write a code\n",
    "to print the data types of both the variables."
   ]
  },
  {
   "cell_type": "markdown",
   "id": "af9801c6",
   "metadata": {},
   "source": [
    "Yes, there is a difference between the data types of list_ and array_list.\n",
    "\n",
    "list_ is a Python list, which is a built-in data type that can hold different data types together (heterogeneous).\n",
    "\n",
    "array_list is a NumPy array, which is a specialized data structure from the NumPy library.\n",
    "NumPy arrays are more efficient for numerical operations and typically contain elements of the same data type (homogeneous)."
   ]
  },
  {
   "cell_type": "code",
   "execution_count": null,
   "id": "dbeffbde",
   "metadata": {},
   "outputs": [],
   "source": [
    "Q2. Write a code to print the data type of each and every element of both the variables list_ and\n",
    "arra_list."
   ]
  },
  {
   "cell_type": "code",
   "execution_count": 14,
   "id": "62a4486e",
   "metadata": {},
   "outputs": [
    {
     "name": "stdout",
     "output_type": "stream",
     "text": [
      "Element:1,Type:<class 'str'>\n",
      "Element:2,Type:<class 'str'>\n",
      "Element:3,Type:<class 'str'>\n",
      "Element:4,Type:<class 'str'>\n",
      "Element:5,Type:<class 'str'>\n",
      "Element:1,Type:<class 'numpy.str_'>\n",
      "Element:2,Type:<class 'numpy.str_'>\n",
      "Element:3,Type:<class 'numpy.str_'>\n",
      "Element:4,Type:<class 'numpy.str_'>\n",
      "Element:5,Type:<class 'numpy.str_'>\n"
     ]
    }
   ],
   "source": [
    "for element in list_:\n",
    "    print(f\"Element:{element},Type:{type(element)}\")\n",
    "   \n",
    "for element in array_list:\n",
    "    print(f'Element:{element},Type:{type(element)}')"
   ]
  },
  {
   "cell_type": "markdown",
   "id": "632d91b4",
   "metadata": {},
   "source": [
    "Q4. Write a code to find the following characteristics of variable, num_array:\n",
    "(i) shape\n",
    "(ii) size"
   ]
  },
  {
   "cell_type": "code",
   "execution_count": 23,
   "id": "4858bfcb",
   "metadata": {},
   "outputs": [
    {
     "name": "stdout",
     "output_type": "stream",
     "text": [
      "Shape of num_array: (2, 3)\n",
      "Size of num_array: 6\n"
     ]
    }
   ],
   "source": [
    "num_list = [[1, 2, 3], [4, 5, 6]]\n",
    "\n",
    "num_array = np.array(num_list\n",
    "\n",
    "array_shape = num_array.shape\n",
    "array_size = num_array.size\n",
    "\n",
    "print(\"Shape of num_array:\", array_shape)\n",
    "print(\"Size of num_array:\", array_size)"
   ]
  },
  {
   "cell_type": "markdown",
   "id": "ad4b40b4",
   "metadata": {},
   "source": [
    "Q5. Write a code to create numpy array of 3*3 matrix containing zeros only, using a numpy array\n",
    "creation function.\n",
    "[Hint: The size of the array will be 9 and the shape will be (3,3).]"
   ]
  },
  {
   "cell_type": "code",
   "execution_count": 21,
   "id": "7923bcfa",
   "metadata": {},
   "outputs": [
    {
     "data": {
      "text/plain": [
       "array([[0., 0., 0.],\n",
       "       [0., 0., 0.],\n",
       "       [0., 0., 0.]])"
      ]
     },
     "execution_count": 21,
     "metadata": {},
     "output_type": "execute_result"
    }
   ],
   "source": [
    "np.zeros((3,3))"
   ]
  },
  {
   "cell_type": "markdown",
   "id": "aa6efc64",
   "metadata": {},
   "source": [
    "Q6. Create an identity matrix of shape (5,5) using numpy functions?\n",
    "[Hint: An identity matrix is a matrix containing 1 diagonally and other elements will be 0.]"
   ]
  },
  {
   "cell_type": "code",
   "execution_count": 20,
   "id": "d720af0c",
   "metadata": {},
   "outputs": [
    {
     "data": {
      "text/plain": [
       "array([[1., 0., 0., 0., 0.],\n",
       "       [0., 1., 0., 0., 0.],\n",
       "       [0., 0., 1., 0., 0.],\n",
       "       [0., 0., 0., 1., 0.],\n",
       "       [0., 0., 0., 0., 1.]])"
      ]
     },
     "execution_count": 20,
     "metadata": {},
     "output_type": "execute_result"
    }
   ],
   "source": [
    "np.eye(5)"
   ]
  },
  {
   "cell_type": "code",
   "execution_count": null,
   "id": "03105ee6",
   "metadata": {},
   "outputs": [],
   "source": []
  }
 ],
 "metadata": {
  "kernelspec": {
   "display_name": "Python 3",
   "language": "python",
   "name": "python3"
  },
  "language_info": {
   "codemirror_mode": {
    "name": "ipython",
    "version": 3
   },
   "file_extension": ".py",
   "mimetype": "text/x-python",
   "name": "python",
   "nbconvert_exporter": "python",
   "pygments_lexer": "ipython3",
   "version": "3.8.8"
  }
 },
 "nbformat": 4,
 "nbformat_minor": 5
}
