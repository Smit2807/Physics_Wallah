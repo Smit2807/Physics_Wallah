{
 "cells": [
  {
   "cell_type": "markdown",
   "id": "9da9ada0",
   "metadata": {},
   "source": [
    " 1. Who developed Python Programming Language?\n",
    "   \n",
    "   Python was developed by Guido van Rossum in the late 1980s, and its first release was in 1991."
   ]
  },
  {
   "cell_type": "markdown",
   "id": "0babb837",
   "metadata": {},
   "source": [
    "2. Which type of Programming does Python support?\n",
    "    \n",
    "    Python supports multiple programming paradigms, including:\n",
    "    Procedural programming\n",
    "    Object-oriented programming (OOP)\n",
    "    Functional programming"
   ]
  },
  {
   "cell_type": "markdown",
   "id": "698acb50",
   "metadata": {},
   "source": [
    "3. Is Python case sensitive when dealing with identifiers?\n",
    "    \n",
    "    Yes, Python is case sensitive. For example, MyVariable and myvariable are considered two different identifiers.\n"
   ]
  },
  {
   "cell_type": "markdown",
   "id": "e631b7d5",
   "metadata": {},
   "source": [
    "\n",
    "4. What is the correct extension of the Python file?\n",
    "    \n",
    "    The correct file extension for a Python script is .py.\n"
   ]
  },
  {
   "cell_type": "markdown",
   "id": "b969e41b",
   "metadata": {},
   "source": [
    "\n",
    "5. Is Python code compiled or interpreted?\n",
    "    Python is an interpreted language. The Python code is compiled into bytecode first, but it is primarily executed by an interpreter."
   ]
  },
  {
   "cell_type": "markdown",
   "id": "88c095ef",
   "metadata": {},
   "source": [
    "6. Name a few blocks of code used to define in Python language?\n",
    "    \n",
    "    Common blocks of code in Python include:\n",
    "    \n",
    "    Function definitions using def\n",
    "    Class definitions using class\n",
    "    Conditional blocks using if, elif, else\n",
    "    Loop blocks using for and while"
   ]
  },
  {
   "cell_type": "markdown",
   "id": "d4b11914",
   "metadata": {},
   "source": [
    "7. State a character used to give single-line comments in Python?\n",
    "    \n",
    "    The character used to give single-line comments in Python is the hash symbol (#).\n"
   ]
  },
  {
   "cell_type": "markdown",
   "id": "fad5f33a",
   "metadata": {},
   "source": [
    "8. Mention functions which can help us to find the version of Python that we are currently working on?\n",
    "    \n",
    "    To find the version of Python you're working on, you can use:\n",
    "    python --version (from the command line)\n",
    "    sys.version (from within a Python script)\n",
    "\n",
    "\n",
    "    import sys\n",
    "    print(sys.version)\n"
   ]
  },
  {
   "cell_type": "markdown",
   "id": "12f8fd39",
   "metadata": {},
   "source": [
    "9. Python supports the creation of anonymous functions at runtime, using a construct called?\n",
    "\n",
    "    Python supports anonymous functions at runtime using a construct called lambda.\n",
    "\n",
    "    square = lambda x: x * x\n",
    "    print(square(5))  # Outputs: 25\n"
   ]
  },
  {
   "cell_type": "markdown",
   "id": "6c56ca2c",
   "metadata": {},
   "source": [
    "10. What does pip stand for Python?\n",
    "    \n",
    "    pip stands for \"Pip Installs Packages\" and is a package manager for installing Python libraries and dependencies.\n",
    "\n"
   ]
  },
  {
   "cell_type": "markdown",
   "id": "1a09e192",
   "metadata": {},
   "source": [
    "11. Mention a few built-in functions in Python?\n",
    "\n",
    "    A few commonly used built-in functions in Python include:\n",
    "\n",
    "    print() – for output\n",
    "    len() – to get the length of a sequence\n",
    "    type() – to check the type of a variable\n",
    "    int(), float(), str() – to convert data types\n",
    "    input() – to take user input\n",
    "    sum() – to sum a list of numbers\n",
    "    sorted() – to sort iterable objects\n"
   ]
  },
  {
   "cell_type": "markdown",
   "id": "d3e13ad9",
   "metadata": {},
   "source": [
    "12. What is the maximum possible length of an identifier in Python?\n",
    "   \n",
    "    There is no explicit limit on the length of an identifier in Python, but the length is constrained by memory and performance limits of the machine. However, PEP 8 recommends keeping identifiers readable and reasonably short.\n",
    "\n"
   ]
  },
  {
   "cell_type": "markdown",
   "id": "8ca45d9d",
   "metadata": {},
   "source": [
    "13. What are the benefits of using Python?\n",
    "    \n",
    "    Some of the main benefits of using Python include:\n",
    "\n",
    "    Easy to learn and use: Python has simple syntax.\n",
    "    High-level language: Python is abstracted from machine-level details.\n",
    "    Interpreted language: No need for explicit compilation.\n",
    "    Cross-platform: Python runs on various operating systems.\n",
    "    Extensive libraries: Python has a vast standard library and support for external packages.\n",
    "    Versatile: Supports multiple programming paradigms like OOP, functional, and procedural programming.\n"
   ]
  },
  {
   "cell_type": "markdown",
   "id": "afbf856c",
   "metadata": {},
   "source": [
    "14. How is memory managed in Python?\n",
    "   \n",
    "    Memory management in Python is handled automatically by the Python Memory Manager, which includes:\n",
    "    \n",
    "    Reference counting for tracking objects.\n",
    "    Garbage collection to reclaim memory by removing objects that are no longer in use.\n",
    "    Dynamic allocation of memory through the use of private heaps.\n"
   ]
  },
  {
   "cell_type": "markdown",
   "id": "40416012",
   "metadata": {},
   "source": [
    "15. How to install Python on Windows and set path variables?\n",
    "    \n",
    "    Steps to install Python on Windows:\n",
    "\n",
    "    Download the latest version of Python from the official Python website.\n",
    "    Run the installer and select \"Add Python to PATH\" checkbox before clicking \"Install\".\n",
    "    After installation, open Command Prompt and type python --version to verify the installation.\n",
    "    If the Python path isn't set automatically, manually set it by:\n",
    "    Right-clicking on This PC → Properties → Advanced system settings → Environment Variables.\n",
    "    In System Variables, find the Path variable, click Edit, and add the path where Python is installed (e.g., C:\\Python39\\).\n"
   ]
  },
  {
   "cell_type": "markdown",
   "id": "386f78d7",
   "metadata": {},
   "source": [
    "16. Is indentation required in Python?\n",
    "\n",
    "    Yes, indentation is required in Python.\n",
    "    Python uses indentation (usually four spaces) to define the scope of loops, functions, conditionals, and other blocks of code.\n",
    "    It replaces the use of braces {} that other programming languages use.\n",
    "\n",
    "    if True:\n",
    "        print(\"This is indented\")"
   ]
  }
 ],
 "metadata": {
  "kernelspec": {
   "display_name": "Python 3",
   "language": "python",
   "name": "python3"
  },
  "language_info": {
   "codemirror_mode": {
    "name": "ipython",
    "version": 3
   },
   "file_extension": ".py",
   "mimetype": "text/x-python",
   "name": "python",
   "nbconvert_exporter": "python",
   "pygments_lexer": "ipython3",
   "version": "3.8.8"
  }
 },
 "nbformat": 4,
 "nbformat_minor": 5
}
