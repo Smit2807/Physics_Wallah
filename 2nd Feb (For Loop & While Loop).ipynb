{
 "cells": [
  {
   "cell_type": "markdown",
   "id": "9498760a",
   "metadata": {},
   "source": [
    "Q1. Explain with an example each when to use a for loop and a while loop."
   ]
  },
  {
   "cell_type": "markdown",
   "id": "2291335f",
   "metadata": {},
   "source": [
    "For Loop:\n",
    "Use a for loop when you know the number of iterations in advance or when you are iterating over a fixed sequence (like a list, string, tuple, or range).\n"
   ]
  },
  {
   "cell_type": "code",
   "execution_count": 10,
   "id": "80759a06",
   "metadata": {},
   "outputs": [
    {
     "name": "stdout",
     "output_type": "stream",
     "text": [
      "1\n",
      "2\n",
      "3\n",
      "4\n",
      "5\n"
     ]
    }
   ],
   "source": [
    "# Let's say you want to print numbers from 1 to 5. Since you know how many times the loop will run, a for loop is ideal\n",
    "\n",
    "for i in range(1,6):\n",
    "    print(i)"
   ]
  },
  {
   "cell_type": "markdown",
   "id": "56f24af6",
   "metadata": {},
   "source": [
    "While Loop:\n",
    "Use a while loop when the number of iterations is not known beforehand and the loop continues until a certain condition is met."
   ]
  },
  {
   "cell_type": "code",
   "execution_count": 11,
   "id": "ff971711",
   "metadata": {},
   "outputs": [
    {
     "name": "stdout",
     "output_type": "stream",
     "text": [
      "Enter a positive number: -5\n",
      "Enter a positive number: 6\n",
      "You entered: 6\n"
     ]
    }
   ],
   "source": [
    "# Let's say you want to keep asking a user for input until they enter a positive number. Since you don't know how many attempts it will take, a while loop is appropriate.\n",
    "\n",
    "num = -1\n",
    "while num <= 0:\n",
    "    num = int(input(\"Enter a positive number: \"))\n",
    "\n",
    "print(\"You entered:\", num)"
   ]
  },
  {
   "cell_type": "markdown",
   "id": "2c8d7784",
   "metadata": {},
   "source": [
    "Q2. Write a python program to print the sum and product of the first 10 natural numbers using for\n",
    "and while loop."
   ]
  },
  {
   "cell_type": "code",
   "execution_count": 17,
   "id": "aa043538",
   "metadata": {},
   "outputs": [
    {
     "name": "stdout",
     "output_type": "stream",
     "text": [
      "55\n",
      "3628800\n"
     ]
    }
   ],
   "source": [
    "# Using While Loop\n",
    "x=1\n",
    "sum=0\n",
    "product=1\n",
    "while x<=10:\n",
    "    sum=sum+x\n",
    "    product=product*x\n",
    "    x=x+1\n",
    "    \n",
    "print(sum)\n",
    "print(product)"
   ]
  },
  {
   "cell_type": "code",
   "execution_count": 15,
   "id": "81aaa3de",
   "metadata": {},
   "outputs": [
    {
     "name": "stdout",
     "output_type": "stream",
     "text": [
      "55\n",
      "3628800\n"
     ]
    }
   ],
   "source": [
    "# Using For Loop\n",
    "sum=0\n",
    "product=1\n",
    "for i in range(1,11):\n",
    "    sum=sum+i\n",
    "    product=product*i\n",
    "print(sum)\n",
    "print(product)"
   ]
  },
  {
   "cell_type": "markdown",
   "id": "ead08d9a",
   "metadata": {},
   "source": [
    "Q3. Create a python program to compute the electricity bill for a household.\n",
    "\n",
    "The per-unit charges in rupees are as follows: For the first 100 units, the user will be charged Rs. 4.5 per\n",
    "unit, for the next 100 units, the user will be charged Rs. 6 per unit, and for the next 100 units, the user will\n",
    "be charged Rs. 10 per unit, After 300 units and above the user will be charged Rs. 20 per unit.\n",
    "\n",
    "You are required to take the units of electricity consumed in a month from the user as input.\n",
    "\n",
    "Your program must pass this test case: when the unit of electricity consumed by the user in a month is\n",
    "310, the total electricity bill should be 2250."
   ]
  },
  {
   "cell_type": "code",
   "execution_count": 22,
   "id": "f1a38d29",
   "metadata": {},
   "outputs": [
    {
     "name": "stdout",
     "output_type": "stream",
     "text": [
      "Enter the units conusmed:310\n",
      "2250.0\n"
     ]
    }
   ],
   "source": [
    "def bill(entered_units):\n",
    "    if entered_units<=100:\n",
    "        return entered_units*4.5\n",
    "    elif entered_units<=200:\n",
    "        return (100*4.5)+(entered_units-100)*6\n",
    "    elif entered_units<=300:\n",
    "        return (100*4.5)+(100*6)+(entered_units-200)*10\n",
    "    else:\n",
    "         return (100*4.5)+(100*6)+(100*10)+(entered_units-300)*20\n",
    "        \n",
    "units_consumed=int(input(\"Enter the units conusmed:\"))\n",
    "units=bill(units_consumed)\n",
    "print(units)"
   ]
  },
  {
   "cell_type": "markdown",
   "id": "872e6b47",
   "metadata": {},
   "source": [
    "Q4. Create a list of numbers from 1 to 100. Use for loop and while loop to calculate the cube of each\n",
    "number and if the cube of that number is divisible by 4 or 5 then append that number in a list and print\n",
    "that list."
   ]
  },
  {
   "cell_type": "code",
   "execution_count": 30,
   "id": "5a404444",
   "metadata": {},
   "outputs": [
    {
     "name": "stdout",
     "output_type": "stream",
     "text": [
      "[2, 4, 5, 6, 8, 10, 12, 14, 15, 16, 18, 20, 22, 24, 25, 26, 28, 30, 32, 34, 35, 36, 38, 40, 42, 44, 45, 46, 48, 50, 52, 54, 55, 56, 58, 60, 62, 64, 65, 66, 68, 70, 72, 74, 75, 76, 78, 80, 82, 84, 85, 86, 88, 90, 92, 94, 95, 96, 98, 100]\n"
     ]
    }
   ],
   "source": [
    "result=[]\n",
    "\n",
    "for i in range(1,101):\n",
    "    cube=i**3\n",
    "    if cube%4==0 or cube%5==0:\n",
    "        result.append(i)\n",
    "    \n",
    "print(result)"
   ]
  },
  {
   "cell_type": "markdown",
   "id": "3024b002",
   "metadata": {},
   "source": [
    "Q5. Write a program to filter count vowels in the below-given string.\n"
   ]
  },
  {
   "cell_type": "code",
   "execution_count": 31,
   "id": "6980f0d1",
   "metadata": {},
   "outputs": [
    {
     "name": "stdout",
     "output_type": "stream",
     "text": [
      "12\n"
     ]
    }
   ],
   "source": [
    "string = \"I want to become a data scientist\"\n",
    "vowel_count=0\n",
    "vowels='aeioiAEIOU'\n",
    "\n",
    "for char in string:\n",
    "    if char in vowels:\n",
    "        vowel_count+=1\n",
    "print(vowel_count)"
   ]
  },
  {
   "cell_type": "code",
   "execution_count": null,
   "id": "b7b3e491",
   "metadata": {},
   "outputs": [],
   "source": []
  }
 ],
 "metadata": {
  "kernelspec": {
   "display_name": "Python 3",
   "language": "python",
   "name": "python3"
  },
  "language_info": {
   "codemirror_mode": {
    "name": "ipython",
    "version": 3
   },
   "file_extension": ".py",
   "mimetype": "text/x-python",
   "name": "python",
   "nbconvert_exporter": "python",
   "pygments_lexer": "ipython3",
   "version": "3.8.8"
  }
 },
 "nbformat": 4,
 "nbformat_minor": 5
}
